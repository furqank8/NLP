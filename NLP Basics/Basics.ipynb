{
  "nbformat": 4,
  "nbformat_minor": 0,
  "metadata": {
    "colab": {
      "provenance": []
    },
    "kernelspec": {
      "name": "python3",
      "display_name": "Python 3"
    },
    "language_info": {
      "name": "python"
    }
  },
  "cells": [
    {
      "cell_type": "code",
      "execution_count": 1,
      "metadata": {
        "colab": {
          "base_uri": "https://localhost:8080/"
        },
        "id": "EYYQXv1fX13x",
        "outputId": "007b2417-7270-49e0-f333-8b6cc87aa4df"
      },
      "outputs": [
        {
          "output_type": "stream",
          "name": "stdout",
          "text": [
            "hello\n"
          ]
        }
      ],
      "source": [
        "print(\"hello\")"
      ]
    },
    {
      "cell_type": "markdown",
      "source": [
        "Welcome to Python\n"
      ],
      "metadata": {
        "id": "L4Qh4ZsnYalD"
      }
    },
    {
      "cell_type": "code",
      "source": [
        "import spacy"
      ],
      "metadata": {
        "id": "SgrL9Pq8Y6jf"
      },
      "execution_count": 10,
      "outputs": []
    },
    {
      "cell_type": "code",
      "source": [
        "import nltk"
      ],
      "metadata": {
        "id": "3E1PeX_yZyEa"
      },
      "execution_count": 5,
      "outputs": []
    },
    {
      "cell_type": "code",
      "source": [
        "print(nltk.__version__)"
      ],
      "metadata": {
        "colab": {
          "base_uri": "https://localhost:8080/"
        },
        "id": "L8YphQhEZxE6",
        "outputId": "95554388-c4ed-4c78-8505-8546d9867003"
      },
      "execution_count": 7,
      "outputs": [
        {
          "output_type": "stream",
          "name": "stdout",
          "text": [
            "3.8.1\n"
          ]
        }
      ]
    },
    {
      "cell_type": "code",
      "source": [
        "import numpy as np\n",
        "import pandas as pd\n",
        "import matplotlib.pyplot as plt\n"
      ],
      "metadata": {
        "id": "T1BFztuFZ-_n"
      },
      "execution_count": 8,
      "outputs": []
    },
    {
      "cell_type": "markdown",
      "source": [
        "Tokenization\n"
      ],
      "metadata": {
        "id": "o9C3uF7BfiMD"
      }
    },
    {
      "cell_type": "code",
      "source": [
        "s1= 'Apple has planned on Acquiring the U.K plant for $1 billion only !!'\n",
        "s2= \" If you face any issues please contact me on +1 2609770743 or furqank8 @gmail.co,. Please also checkout furqan.com\""
      ],
      "metadata": {
        "id": "gLOhDh4efjzG"
      },
      "execution_count": 24,
      "outputs": []
    },
    {
      "cell_type": "code",
      "source": [
        "nlp = spacy.load(name='en_core_web_sm')"
      ],
      "metadata": {
        "id": "pzfK8Na4ft74"
      },
      "execution_count": 12,
      "outputs": []
    },
    {
      "cell_type": "code",
      "source": [
        "doc1= nlp(s1)\n",
        "doc2 = nlp(s2)"
      ],
      "metadata": {
        "id": "Dw5MVEVKft9i"
      },
      "execution_count": 25,
      "outputs": []
    },
    {
      "cell_type": "code",
      "source": [
        "for i in doc1:\n",
        "  print (i)"
      ],
      "metadata": {
        "colab": {
          "base_uri": "https://localhost:8080/"
        },
        "id": "sI9cCCCOgAg2",
        "outputId": "2b68460c-c909-4033-aca3-341ae1bc91da"
      },
      "execution_count": 15,
      "outputs": [
        {
          "output_type": "stream",
          "name": "stdout",
          "text": [
            "Apple\n",
            "has\n",
            "planned\n",
            "on\n",
            "Acquiring\n",
            "the\n",
            "U.K\n",
            "plant\n",
            "for\n",
            "$\n",
            "1\n",
            "billion\n",
            "only\n",
            "!\n",
            "!\n"
          ]
        }
      ]
    },
    {
      "cell_type": "code",
      "source": [
        "for i in doc2:\n",
        "  print (i)"
      ],
      "metadata": {
        "colab": {
          "base_uri": "https://localhost:8080/"
        },
        "id": "Y7WggvrRfuBd",
        "outputId": "28b72d7b-362a-44fe-de5f-83ed93c2be69"
      },
      "execution_count": 26,
      "outputs": [
        {
          "output_type": "stream",
          "name": "stdout",
          "text": [
            " \n",
            "If\n",
            "you\n",
            "face\n",
            "any\n",
            "issues\n",
            "please\n",
            "contact\n",
            "me\n",
            "on\n",
            "+1\n",
            "2609770743\n",
            "or\n",
            "furqank8\n",
            "@gmail.co\n",
            ",\n",
            ".\n",
            "Please\n",
            "also\n",
            "checkout\n",
            "furqan.com\n"
          ]
        }
      ]
    },
    {
      "cell_type": "code",
      "source": [
        "type(s1)"
      ],
      "metadata": {
        "colab": {
          "base_uri": "https://localhost:8080/"
        },
        "id": "qEX656ZemJ5O",
        "outputId": "d153d051-6474-43f8-9323-a0081b5b8b57"
      },
      "execution_count": 29,
      "outputs": [
        {
          "output_type": "execute_result",
          "data": {
            "text/plain": [
              "str"
            ]
          },
          "metadata": {},
          "execution_count": 29
        }
      ]
    },
    {
      "cell_type": "code",
      "source": [
        "type(doc1)"
      ],
      "metadata": {
        "colab": {
          "base_uri": "https://localhost:8080/"
        },
        "id": "1SvHvZ3dmRr2",
        "outputId": "b6429315-800c-4307-c251-1648e21d6ff9"
      },
      "execution_count": 30,
      "outputs": [
        {
          "output_type": "execute_result",
          "data": {
            "text/plain": [
              "spacy.tokens.doc.Doc"
            ]
          },
          "metadata": {},
          "execution_count": 30
        }
      ]
    },
    {
      "cell_type": "code",
      "source": [
        "doc1[1]= \"A\" # Does not support item assignment"
      ],
      "metadata": {
        "id": "fZ3q-X_mmJ68"
      },
      "execution_count": null,
      "outputs": []
    },
    {
      "cell_type": "markdown",
      "source": [
        "Stemming and Lemitization\n"
      ],
      "metadata": {
        "id": "jHbphIgxzTul"
      }
    },
    {
      "cell_type": "code",
      "source": [
        "import nltk"
      ],
      "metadata": {
        "id": "CsjME9nxzWT5"
      },
      "execution_count": 32,
      "outputs": []
    },
    {
      "cell_type": "code",
      "source": [
        "from nltk.stem.porter import PorterStemmer as P_stemmer\n",
        "from nltk.stem.snowball import SnowballStemmer"
      ],
      "metadata": {
        "id": "D-7jCCkw1dZx"
      },
      "execution_count": 33,
      "outputs": []
    },
    {
      "cell_type": "code",
      "source": [
        "p_stemmer = PorterStemmer()\n",
        "s_stemmer = SnowballStemmer(language='english')"
      ],
      "metadata": {
        "id": "4qODW7K41vTn"
      },
      "execution_count": 37,
      "outputs": []
    },
    {
      "cell_type": "code",
      "source": [
        "words = [\"Running\", \"Ran\", \"Runs\", \"Playing\", \"Played\", \"Easily\", \"Borrowed\", \"Fairly\", \"greatly\"]"
      ],
      "metadata": {
        "id": "omWykj8w2brq"
      },
      "execution_count": 7,
      "outputs": []
    },
    {
      "cell_type": "code",
      "source": [
        "for word in words:\n",
        "  print( word +\"----- \"+ p_stemmer.stem(word))\n",
        "  print(word+\" -----\"+ s_stemmer.stem(word))"
      ],
      "metadata": {
        "colab": {
          "base_uri": "https://localhost:8080/"
        },
        "id": "oZ5X79Dk3H5Y",
        "outputId": "28769202-fa28-4abf-9266-e1d7eafa6a16"
      },
      "execution_count": 9,
      "outputs": [
        {
          "output_type": "stream",
          "name": "stdout",
          "text": [
            "Running----- run\n",
            "Running -----run\n",
            "Ran----- ran\n",
            "Ran -----ran\n",
            "Runs----- run\n",
            "Runs -----run\n",
            "Playing----- play\n",
            "Playing -----play\n",
            "Played----- play\n",
            "Played -----play\n",
            "Easily----- easili\n",
            "Easily -----easili\n",
            "Borrowed----- borrow\n",
            "Borrowed -----borrow\n",
            "Fairly----- fairli\n",
            "Fairly -----fair\n",
            "greatly----- greatli\n",
            "greatly -----great\n"
          ]
        }
      ]
    },
    {
      "cell_type": "markdown",
      "source": [
        "Lemmitization"
      ],
      "metadata": {
        "id": "ejr4_OQmMfsB"
      }
    },
    {
      "cell_type": "code",
      "source": [
        "import spacy\n",
        "nlp = spacy.load('en_core_web_sm')\n",
        "doc1= nlp(\"The striped bats are hanging on their feet playfully\")\n"
      ],
      "metadata": {
        "id": "VkSp2l_TMg6l"
      },
      "execution_count": 28,
      "outputs": []
    },
    {
      "cell_type": "code",
      "source": [
        "for token in doc1:\n",
        "  print(token.text ,'\\t', token.lemma_)"
      ],
      "metadata": {
        "colab": {
          "base_uri": "https://localhost:8080/"
        },
        "id": "hdy4HYC_M5A2",
        "outputId": "16c72662-0ccd-4042-f988-119a87654a3f"
      },
      "execution_count": 29,
      "outputs": [
        {
          "output_type": "stream",
          "name": "stdout",
          "text": [
            "The \t the\n",
            "striped \t stripe\n",
            "bats \t bat\n",
            "are \t be\n",
            "hanging \t hang\n",
            "on \t on\n",
            "their \t their\n",
            "feet \t foot\n",
            "playfully \t playfully\n"
          ]
        }
      ]
    },
    {
      "cell_type": "code",
      "source": [
        "str1= \"The striped bats are hanging on their feet playfully\""
      ],
      "metadata": {
        "id": "Krp7MgA4NaPN"
      },
      "execution_count": 30,
      "outputs": []
    },
    {
      "cell_type": "code",
      "source": [
        "for word in str1.split():\n",
        "  print(word +'----------'+p_stemmer.stem(word))"
      ],
      "metadata": {
        "colab": {
          "base_uri": "https://localhost:8080/"
        },
        "id": "fGbwFjZ5O3CJ",
        "outputId": "f295f1e6-315f-40b1-d4da-e9fef9ceccb3"
      },
      "execution_count": 38,
      "outputs": [
        {
          "output_type": "stream",
          "name": "stdout",
          "text": [
            "The----------the\n",
            "striped----------stripe\n",
            "bats----------bat\n",
            "are----------are\n",
            "hanging----------hang\n",
            "on----------on\n",
            "their----------their\n",
            "feet----------feet\n",
            "playfully----------play\n"
          ]
        }
      ]
    },
    {
      "cell_type": "markdown",
      "source": [
        "Stop Words"
      ],
      "metadata": {
        "id": "r14MEYoYTXFy"
      }
    },
    {
      "cell_type": "code",
      "source": [
        "import spacy\n",
        "nlp = spacy.load(\"en_core_web_sm\")"
      ],
      "metadata": {
        "id": "xpSdOFbfTYWZ"
      },
      "execution_count": 39,
      "outputs": []
    },
    {
      "cell_type": "code",
      "source": [
        "print(nlp.Defaults.stop_words)"
      ],
      "metadata": {
        "colab": {
          "base_uri": "https://localhost:8080/"
        },
        "id": "MFZIuAVjTe5V",
        "outputId": "b9c59c43-251c-4af6-b628-a6f87c8a99bd"
      },
      "execution_count": 44,
      "outputs": [
        {
          "output_type": "stream",
          "name": "stdout",
          "text": [
            "{'something', 'take', 'down', 'against', 'their', 'i', 'behind', 'themselves', 'none', 'done', \"'re\", 'seems', 'does', \"'m\", 'except', 'herself', 'anyway', 'as', 'where', 'while', 'formerly', 'one', 'thereafter', 'yours', 'into', 'nor', 'must', 'another', 'also', 'during', 'for', 'four', '‘ll', '‘m', 'again', 'eleven', 'by', 'she', 'please', 'any', 'whereupon', 'sometime', 'of', 'sometimes', 'thereby', '‘s', 'a', 'well', 'who', 'regarding', 'both', 'becomes', 'before', 'move', 'below', 'my', 'the', 'thereupon', 'am', 'on', \"n't\", 'two', \"'ll\", 'only', 'more', 'five', 'hereupon', 'mine', 'onto', 'together', '’s', 'always', 'why', '‘re', 'show', 'neither', 'how', 'seem', 'bottom', 'such', 'whoever', 'n’t', 'same', 'three', 'becoming', 'mostly', 'over', 'however', 'toward', 'every', 'get', 'side', 'call', 'throughout', 'eight', 'what', \"'ve\", 'nine', 'amongst', 'other', 'itself', 'least', 'ourselves', '’ll', 'ours', 'due', 'without', 'because', 'being', 'wherever', 'wherein', 'around', 'give', 'several', 'have', 'off', 'they', 'about', 'go', 'beside', 'hundred', 'full', '’ve', 'just', 'whereas', 'last', 'we', 'latter', 'myself', 'towards', 'with', 'been', 'used', 'fifty', 'anyone', 'that', 'this', 'us', 'often', 'hereafter', 'further', 'twenty', '’m', 'an', 'anyhow', 'forty', 'all', 'unless', 'elsewhere', 'out', 'ca', 'very', '’d', 'most', 'among', 'beforehand', 'yet', \"'s\", 'yourself', 'than', 'empty', 'not', 'really', \"'d\", 'here', 'if', 'hereby', 'using', 'became', 'either', 'say', 'within', 'fifteen', 'ever', 'others', 'somehow', 'its', 'still', 'everywhere', 'meanwhile', 'can', 'former', 'me', 'should', 'thence', 'third', 'whom', 'become', '’re', 'quite', 'whole', 'under', '‘ve', 'ten', 'might', 'you', 'via', 'hers', 'too', 'whereby', 'sixty', 'then', 'put', 'there', 'anywhere', 'even', 'until', 'could', 'upon', 'top', 'enough', 'in', 'moreover', 'otherwise', 'although', 'therein', 'beyond', 'through', 'anything', 'indeed', 'along', 'cannot', 'now', 'twelve', 'he', 'whenever', 'back', 'various', 're', 'much', 'next', 'be', 'rather', 'each', 'will', 'his', 'many', 'them', 'whence', 'everyone', 'whereafter', 'but', 'doing', 'namely', 'do', 'six', 'these', 'nobody', 'front', 'seeming', 'across', 'see', 'almost', 'are', 'someone', 'since', 'himself', 'few', 'no', 'nothing', 'besides', 'so', 'per', 'latterly', '‘d', 'her', 'make', 'whether', 'keep', 'perhaps', 'everything', 'else', 'at', 'was', 'up', 'though', 'it', 'above', 'seemed', 'already', 'thru', 'after', 'is', 'never', 'between', 'less', 'some', 'your', 'yourselves', 'hence', 'noone', 'may', 'afterwards', 'part', 'therefore', 'alone', 'thus', 'name', 'somewhere', 'serious', 'whose', 'when', 'nevertheless', 'or', 'our', 'which', 'and', 'has', 'amount', 'nowhere', 'from', 'those', 'were', 'would', 'whither', 'own', 'whatever', 'him', 'herein', 'once', 'first', 'made', 'to', 'n‘t', 'did', 'had'}\n"
          ]
        }
      ]
    },
    {
      "cell_type": "code",
      "source": [
        "len(nlp.Defaults.stop_words)"
      ],
      "metadata": {
        "colab": {
          "base_uri": "https://localhost:8080/"
        },
        "id": "5OL0LaNETwBN",
        "outputId": "7c62a47f-f3c1-49b7-eea6-0d38ebad0b16"
      },
      "execution_count": 46,
      "outputs": [
        {
          "output_type": "execute_result",
          "data": {
            "text/plain": [
              "326"
            ]
          },
          "metadata": {},
          "execution_count": 46
        }
      ]
    },
    {
      "cell_type": "code",
      "source": [
        "nlp.vocab['down'].is_stop"
      ],
      "metadata": {
        "colab": {
          "base_uri": "https://localhost:8080/"
        },
        "id": "NGGH0KkuT3GB",
        "outputId": "cf7f5b90-6e3d-4de8-9cc3-518ef6267799"
      },
      "execution_count": 50,
      "outputs": [
        {
          "output_type": "execute_result",
          "data": {
            "text/plain": [
              "True"
            ]
          },
          "metadata": {},
          "execution_count": 50
        }
      ]
    },
    {
      "cell_type": "code",
      "source": [
        "nlp.Defaults.stop_words.remove('something')"
      ],
      "metadata": {
        "id": "S0b3P2snUj-3"
      },
      "execution_count": 52,
      "outputs": []
    },
    {
      "cell_type": "code",
      "source": [
        "len(nlp.Defaults.stop_words)"
      ],
      "metadata": {
        "colab": {
          "base_uri": "https://localhost:8080/"
        },
        "id": "BPWqtOw5VDBy",
        "outputId": "7ec8d4f1-351b-466c-b392-464f9baee5e0"
      },
      "execution_count": 53,
      "outputs": [
        {
          "output_type": "execute_result",
          "data": {
            "text/plain": [
              "325"
            ]
          },
          "metadata": {},
          "execution_count": 53
        }
      ]
    },
    {
      "cell_type": "code",
      "source": [
        "nlp.vocab['something'].is_stop"
      ],
      "metadata": {
        "colab": {
          "base_uri": "https://localhost:8080/"
        },
        "id": "CbPzjkGVVHfu",
        "outputId": "ce524b8c-c38e-44d1-ba19-a7a701e90d84"
      },
      "execution_count": 54,
      "outputs": [
        {
          "output_type": "execute_result",
          "data": {
            "text/plain": [
              "False"
            ]
          },
          "metadata": {},
          "execution_count": 54
        }
      ]
    },
    {
      "cell_type": "markdown",
      "source": [
        "Rule Based Matching\n"
      ],
      "metadata": {
        "id": "u4u2AHEyvWlC"
      }
    },
    {
      "cell_type": "code",
      "source": [
        "import spacy\n",
        "from spacy.matcher import Matcher"
      ],
      "metadata": {
        "id": "JeN6bQ4SvK2y"
      },
      "execution_count": 36,
      "outputs": []
    },
    {
      "cell_type": "code",
      "source": [
        "nlp = spacy.load('en_core_web_sm')\n",
        "matcher = Matcher(nlp.vocab)"
      ],
      "metadata": {
        "id": "YFobHQRwvV0_"
      },
      "execution_count": 37,
      "outputs": []
    },
    {
      "cell_type": "code",
      "source": [
        "pattern1 = [{\"LOWER\":\"hello\"}, {\"IS_PUNCT\":True}, {\"LOWER\":\"world\"}]\n",
        "pattern2 = [{\"LOWER\":\"hello\"}, {\"LOWER\":\"world\"}]"
      ],
      "metadata": {
        "id": "9uDs4zjYv-ty"
      },
      "execution_count": 61,
      "outputs": []
    },
    {
      "cell_type": "code",
      "source": [
        "matcher.add(\"hello\", [pattern1,pattern2])"
      ],
      "metadata": {
        "id": "Q-gCDkr_wS2a"
      },
      "execution_count": 62,
      "outputs": []
    },
    {
      "cell_type": "code",
      "source": [
        "doc = nlp(\" Hello World, How is it going , Hello,World  and again a big Hello - WORLD\")"
      ],
      "metadata": {
        "id": "fx0nCPoXyHcP"
      },
      "execution_count": 63,
      "outputs": []
    },
    {
      "cell_type": "code",
      "source": [
        "matches = matcher(doc)\n",
        "for match_id, start,end in matches:\n",
        "    string_id = nlp.vocab.strings[match_id]  # Get string representation\n",
        "    span = doc[start:end]  # The matched span\n",
        "    print(match_id, start, end,span.text)"
      ],
      "metadata": {
        "colab": {
          "base_uri": "https://localhost:8080/"
        },
        "id": "lOoVWKOtyZs7",
        "outputId": "927a5b21-f70d-4ecf-a68f-8a38b07f7ae7"
      },
      "execution_count": 64,
      "outputs": [
        {
          "output_type": "stream",
          "name": "stdout",
          "text": [
            "5983625672228268878 1 3 Hello World\n",
            "5983625672228268878 9 12 Hello,World\n",
            "5983625672228268878 17 20 Hello - WORLD\n"
          ]
        }
      ]
    },
    {
      "cell_type": "markdown",
      "source": [
        "Phrase Matching\n"
      ],
      "metadata": {
        "id": "fK899xuNiBgW"
      }
    },
    {
      "cell_type": "code",
      "source": [
        "import spacy\n",
        "from spacy.matcher import PhraseMatcher"
      ],
      "metadata": {
        "id": "WkcZk6atiDK0"
      },
      "execution_count": 1,
      "outputs": []
    },
    {
      "cell_type": "code",
      "source": [
        "nlp= spacy.load('en_core_web_sm')\n",
        "matcher = PhraseMatcher(nlp.vocab)"
      ],
      "metadata": {
        "id": "jS4eCTRtilI9"
      },
      "execution_count": 2,
      "outputs": []
    },
    {
      "cell_type": "code",
      "source": [
        "phrase_list = [\"Barak Obama\",\"Furqan Khan\", \"Medicine\"]"
      ],
      "metadata": {
        "id": "y-8IUQHojR_3"
      },
      "execution_count": 33,
      "outputs": []
    },
    {
      "cell_type": "code",
      "source": [
        "phrase_pattern = [nlp(text) for text in phrase_list]"
      ],
      "metadata": {
        "id": "w7YxLMESkRBo"
      },
      "execution_count": 32,
      "outputs": []
    },
    {
      "cell_type": "code",
      "source": [
        "doc1 = nlp(\"Hi Barak Obama , How are you doing. I recently heard from Furqan Khan that he would be taking up as the next President after working for Medicine\")"
      ],
      "metadata": {
        "id": "t-Clrvo-kfF1"
      },
      "execution_count": 37,
      "outputs": []
    },
    {
      "cell_type": "code",
      "source": [
        "matcher.add(\"List\",[*phrase_pattern])"
      ],
      "metadata": {
        "id": "70ctgtAkk_7a"
      },
      "execution_count": 38,
      "outputs": []
    },
    {
      "cell_type": "code",
      "source": [
        "matching = matcher(doc1)\n",
        "print(matching)"
      ],
      "metadata": {
        "colab": {
          "base_uri": "https://localhost:8080/"
        },
        "id": "0rEP8d42lRYI",
        "outputId": "caab2b0f-1607-46a2-a13e-4b2b746433e5"
      },
      "execution_count": 39,
      "outputs": [
        {
          "output_type": "stream",
          "name": "stdout",
          "text": [
            "[(12425621672865606583, 1, 3), (12425621672865606583, 13, 15), (12425621672865606583, 28, 29)]\n"
          ]
        }
      ]
    },
    {
      "cell_type": "code",
      "source": [
        "for match_id,start,end in matching:\n",
        "    string_id = nlp.vocab.strings[match_id]  # Get string representation\n",
        "    span = doc1[start:end]  # The matched span\n",
        "    print(match_id, start, end,span.text)"
      ],
      "metadata": {
        "colab": {
          "base_uri": "https://localhost:8080/"
        },
        "id": "Ja7Yze8MnD7i",
        "outputId": "f209c23d-91eb-486b-835b-53bae649d671"
      },
      "execution_count": 40,
      "outputs": [
        {
          "output_type": "stream",
          "name": "stdout",
          "text": [
            "12425621672865606583 1 3 Barak Obama\n",
            "12425621672865606583 13 15 Furqan Khan\n",
            "12425621672865606583 28 29 Medicine\n"
          ]
        }
      ]
    }
  ]
}